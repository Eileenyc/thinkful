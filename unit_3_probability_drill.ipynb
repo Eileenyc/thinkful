{
 "cells": [
  {
   "cell_type": "markdown",
   "metadata": {},
   "source": [
    "# Drill - Exercises in Probabilty"
   ]
  },
  {
   "cell_type": "markdown",
   "metadata": {},
   "source": [
    "#### 1. Calculate the probability of flipping a balanced coin for times and getting each pattern. HTTH, HHHH, TTHH"
   ]
  },
  {
   "cell_type": "markdown",
   "metadata": {},
   "source": [
    "The probability of a coin landing on heads (H) or tails (T) is 1/2 for both outcomes. The outcomes of flipping a coin multiple times in a row are independant of eachother. So the probability of any pattern of outcomes from flipping a coin is calculated:\n",
    "1/2\\*1/2\\*1/2\\1/2 =1/16"
   ]
  },
  {
   "cell_type": "markdown",
   "metadata": {},
   "source": [
    "#### 2. If a list of people has 24 women and 21 men, then the probability of choosing a man from the list is 21/45.  What is the probability of not choosing a man?"
   ]
  },
  {
   "cell_type": "markdown",
   "metadata": {},
   "source": [
    "The probability of NOT choosing a man is 45-21/45 which also happends to be the probability of selecting a woman (24/45)"
   ]
  },
  {
   "cell_type": "markdown",
   "metadata": {},
   "source": [
    "#### 3. The probability that Bernice will travel by plan seomtime in the next year is 10%. The probabilty of a plane crash at any time is .005%. What is the probability that Bernice will be in a plane crash sometime in the next year?"
   ]
  },
  {
   "cell_type": "markdown",
   "metadata": {},
   "source": [
    "The probability of Bernice being in a plane crash is dependant on her actually traveling on a plane.\n",
    "10%\\*0.005%= 0.0005"
   ]
  },
  {
   "cell_type": "code",
   "execution_count": 4,
   "metadata": {},
   "outputs": [
    {
     "data": {
      "text/plain": [
       "5e-06"
      ]
     },
     "execution_count": 4,
     "metadata": {},
     "output_type": "execute_result"
    }
   ],
   "source": [
    "10/100*(.005/100)"
   ]
  },
  {
   "cell_type": "markdown",
   "metadata": {},
   "source": [
    "#### 4. A data scientist wants to study the behavior of users on the compay website. Each time a user clicks on a link on the website there is a 5% chance that the user will be asked to complete a short survey about their behavior on the website. The data scientist uses the survey data to concule that, on average, users spend 15 minutes surfing the company website before moving on to other things. What is wrong with this conclusion?"
   ]
  },
  {
   "cell_type": "markdown",
   "metadata": {},
   "source": [
    "The sample is biased because users have to click on a link to have a chance that they will be served a survey and users who click on a link will inherently spend more time on the site in order to get to a link to click on (also if you are clicking on links you are probabily more interested in the content on the site than a non clicking visitor."
   ]
  }
 ],
 "metadata": {
  "kernelspec": {
   "display_name": "Python 3",
   "language": "python",
   "name": "python3"
  },
  "language_info": {
   "codemirror_mode": {
    "name": "ipython",
    "version": 3
   },
   "file_extension": ".py",
   "mimetype": "text/x-python",
   "name": "python",
   "nbconvert_exporter": "python",
   "pygments_lexer": "ipython3",
   "version": "3.6.4"
  }
 },
 "nbformat": 4,
 "nbformat_minor": 2
}
