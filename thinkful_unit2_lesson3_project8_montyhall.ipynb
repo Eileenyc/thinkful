{
 "cells": [
  {
   "cell_type": "markdown",
   "metadata": {},
   "source": [
    "# Challenge Beware the Monty Hall"
   ]
  },
  {
   "cell_type": "markdown",
   "metadata": {},
   "source": [
    "You are on a game show and given the choice of whatever is behind three doors. Behind one door is a fantastic prize (some examples use a car, others use cash) while behind the other two doors is a dud (some examples say a goat, others say it's just empty). You pick a door. Then the host opens one of the other two doors to reveal a dud. But here's the wrinkle: the host now gives you the opportunity to switch your door. What should you do?"
   ]
  },
  {
   "cell_type": "markdown",
   "metadata": {},
   "source": [
    "You are presented with 3 doors A, B, and C\n",
    "When first presented with choice there is an equal likelihood that the prize would be behind any of the 3 doors so\n",
    "P(A) = 1/3   \n",
    "P(B) = 1/3   \n",
    "P(C) = 1/3"
   ]
  },
  {
   "cell_type": "markdown",
   "metadata": {},
   "source": [
    "Say you select Door A, the P(A) is now locked at 1/3.  \n",
    "The game show host now opens door C to show you that it has a goat so the P(C) = 0\n",
    "Which gives a bit of information about door B, now when you are deciding whether to switch doors you are selecting between P(A) = 1/3 and P(B|C) = 2/3 "
   ]
  }
 ],
 "metadata": {
  "kernelspec": {
   "display_name": "Python 3",
   "language": "python",
   "name": "python3"
  },
  "language_info": {
   "codemirror_mode": {
    "name": "ipython",
    "version": 3
   },
   "file_extension": ".py",
   "mimetype": "text/x-python",
   "name": "python",
   "nbconvert_exporter": "python",
   "pygments_lexer": "ipython3",
   "version": "3.6.4"
  }
 },
 "nbformat": 4,
 "nbformat_minor": 2
}
