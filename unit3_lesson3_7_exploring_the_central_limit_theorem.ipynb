{
 "cells": [
  {
   "cell_type": "markdown",
   "metadata": {},
   "source": [
    "# 3.3.7 Drill - Exploring the Central Limit Theorem"
   ]
  },
  {
   "cell_type": "code",
   "execution_count": 26,
   "metadata": {},
   "outputs": [],
   "source": [
    "import numpy as np\n",
    "import pandas as pd\n",
    "import matplotlib.pyplot as plt\n",
    "%matplotlib inline\n",
    "import statistics\n",
    "from scipy.stats import ttest_ind"
   ]
  },
  {
   "cell_type": "markdown",
   "metadata": {},
   "source": [
    "Create two binomially distributed populations with n = 10 and size = 10000. \n",
    "pop1 p-value = 0.2 \n",
    "pop2 p-value = 0.5 \n",
    "Using a sample size of 100, calculate the means and standard deviations of your samples.\n",
    "\n",
    "For each of the following tasks, first write what you expect will happen, then code the changes and observe what does happen. Discuss the results with your mentor.\n"
   ]
  },
  {
   "cell_type": "code",
   "execution_count": 21,
   "metadata": {},
   "outputs": [],
   "source": [
    "# Create 2 binomially distributed populations with n=10 and size=10000\n",
    "pop1 = np.random.binomial(10, 0.2, 10000)\n",
    "pop2 = np.random.binomial(10, 0.5, 10000)"
   ]
  },
  {
   "cell_type": "code",
   "execution_count": 22,
   "metadata": {},
   "outputs": [
    {
     "name": "stdout",
     "output_type": "stream",
     "text": [
      "mean sample1 n=100: 1.94\n",
      "mean sample2 n=100: 5.25\n",
      "std sample1 n=100: 1.2232742946698423\n",
      "std sample2 n=100: 1.82414363469547\n"
     ]
    }
   ],
   "source": [
    "# Using a sample size of 100\n",
    "sample1 = np.random.choice(pop1, 100, replace=True)\n",
    "sample2 = np.random.choice(pop2, 100, replace=True)\n",
    "\n",
    "print('mean sample1 n=100: ' + str(np.mean(sample1)))\n",
    "print('mean sample2 n=100: ' + str(np.mean(sample2)))\n",
    "print('std sample1 n=100: ' + str(np.std(sample1)))\n",
    "print('std sample2 n=100: ' + str(np.std(sample2)))"
   ]
  },
  {
   "cell_type": "markdown",
   "metadata": {},
   "source": [
    "#### 1. Increase the size of your samples from 100 to 1000, then calculate the means and standard deviations for your new samples and create histograms for each.  Repeat this again, decreasing the size of your samples to 20. What values change, and what remain the same?\n",
    "\n",
    "Prediction: I expect the standard deviation from the mean will overlap more when 1000 datapoints are included in the sample and overlap less when 20 datapoints are included in the sample. \n",
    "\n",
    "Observations:  The averages stayed close to the same but the standard deviations increased with n"
   ]
  },
  {
   "cell_type": "code",
   "execution_count": 25,
   "metadata": {},
   "outputs": [
    {
     "data": {
      "image/png": "[encoded data removed]",
      "text/plain": [
       "<Figure size 432x288 with 1 Axes>"
      ]
     },
     "metadata": {},
     "output_type": "display_data"
    },
    {
     "name": "stdout",
     "output_type": "stream",
     "text": [
      "n=1000\n",
      "mean sample1: 2.018\n",
      "mean sample2: 5.074\n",
      "std sample1: 1.284397134845761\n",
      "std sample2: 1.5370504220746959\n",
      "3.056\n"
     ]
    }
   ],
   "source": [
    "# Using a sample size of 1000\n",
    "sample1 = np.random.choice(pop1, 1000, replace=True)\n",
    "sample2 = np.random.choice(pop2, 1000, replace=True)\n",
    "\n",
    "plt.hist(sample1, alpha=0.5, label='sample 1') \n",
    "plt.hist(sample2, alpha=0.5, label='sample 2') \n",
    "plt.title('n=1000')\n",
    "plt.legend(loc='upper right') \n",
    "plt.show()\n",
    "\n",
    "print('n=1000')\n",
    "print('mean sample1: ' + str(np.mean(sample1)))\n",
    "print('mean sample2: ' + str(np.mean(sample2)))\n",
    "print('std sample1: ' + str(np.std(sample1)))\n",
    "print('std sample2: ' + str(np.std(sample2)))\n",
    "\n",
    "# Compute the difference between the two sample means.\n",
    "diff=sample2.mean( ) -sample1.mean()\n",
    "print(diff)"
   ]
  },
  {
   "cell_type": "markdown",
   "metadata": {},
   "source": [
    "## 2. Adjust probability for pop1 to 0.3 and then 0.4. Take new samples and compute the t-statistic and p-value. What changes, and why?\n",
    "\n",
    "Prediction: I think increasing the probability is also incresing the variance so the will be greater differences between each sample from the same population but given he central limit theorum they should still head towards the same average? - After playing with this more I realize its more about the two populations have similar composition. Given that the probability of the two populations are getting closer they should have more similar distributions, the t-value should go down and the \n",
    "\n",
    "Actual: the t-value shrinks and the p-value gets larger as the two samples become more similar. \n",
    "\n",
    "*t-value tells us how large the difference between two samples is relative to the amount of variance in the combined dataset? aka is there a meaningful difference in the means of the two samples? (higher number the more the two populatins are different)*\n",
    "\n",
    "*the p-values tells us how likely we would get the two samples if they came from populations with the same mean. The lower the p-value the more confidently we can say there is a meaningful difference between the means of the two original populations\n",
    "p-value closer to 1 - there will always be a difference of this size or greater in abscence or real population difference.*"
   ]
  },
  {
   "cell_type": "code",
   "execution_count": 27,
   "metadata": {},
   "outputs": [
    {
     "name": "stdout",
     "output_type": "stream",
     "text": [
      "Ttest_indResult(statistic=10.534341684234382, pvalue=9.921886007348133e-21)\n"
     ]
    }
   ],
   "source": [
    "# pop1 p = 0.3\n",
    "pop1 = np.random.binomial(10, 0.3, 10000)\n",
    "pop2 = np.random.binomial(10, 0.5, 10000)\n",
    "\n",
    "sample1 = np.random.choice(pop1, 100, replace=True)\n",
    "sample2 = np.random.choice(pop2, 100, replace=True)\n",
    "\n",
    "print(ttest_ind(sample2, sample1, equal_var=False))"
   ]
  },
  {
   "cell_type": "code",
   "execution_count": 29,
   "metadata": {},
   "outputs": [
    {
     "name": "stdout",
     "output_type": "stream",
     "text": [
      "Ttest_indResult(statistic=3.384733970284061, pvalue=0.0008611428472002717)\n"
     ]
    }
   ],
   "source": [
    "# pop1 p = 0.4\n",
    "pop1 = np.random.binomial(10, 0.4, 10000)\n",
    "pop2 = np.random.binomial(10, 0.5, 10000)\n",
    "\n",
    "sample1 = np.random.choice(pop1, 100, replace=True)\n",
    "sample2 = np.random.choice(pop2, 100, replace=True)\n",
    "\n",
    "print(ttest_ind(sample2, sample1, equal_var=False))"
   ]
  },
  {
   "cell_type": "markdown",
   "metadata": {},
   "source": [
    "## 3.  Change the distribution of your populations from binomial to a distribution of your choice. Do the sample mean values still accurately represent the population values?\n",
    "\n",
    "Prediction: The sample mean values should still accurately represent the population mean if the size of the sample is adequate to represent the variance in the population.\n",
    "\n",
    "Observation: Is this asking if the average of a sample will accurately represent the population average?\n",
    "Or am i testing to see if the t-values will shrink again when the samples come from more similar populations?\n"
   ]
  },
  {
   "cell_type": "code",
   "execution_count": 33,
   "metadata": {
    "scrolled": false
   },
   "outputs": [
    {
     "data": {
      "image/png": "[encoded data removed]",
      "text/plain": [
       "<Figure size 432x288 with 1 Axes>"
      ]
     },
     "metadata": {},
     "output_type": "display_data"
    },
    {
     "name": "stdout",
     "output_type": "stream",
     "text": [
      "n=1000\n",
      "mean pop1: 4.98332494116964\n",
      "mean sample1: 4.963454218421262\n",
      "mean pop2: 6.9758042294556155\n",
      "mean sample2: 6.88612767396541\n",
      "std sample1: 2.209221335179571\n",
      "std sample2: 2.6583384669628614\n",
      "1.9226734555441478\n",
      "Ttest_indResult(statistic=17.58130738203123, pvalue=2.6401807038250965e-64)\n",
      "None\n"
     ]
    }
   ],
   "source": [
    "# Using a sample size of 1000, create 2 populations of gamma\n",
    "pop1 = np.random.gamma(5,1,10000)\n",
    "pop2 = np.random.gamma(7,1,10000)\n",
    "\n",
    "sample1 = np.random.choice(pop1, 1000, replace=True)\n",
    "sample2 = np.random.choice(pop2, 1000, replace=True)\n",
    "\n",
    "plt.hist(sample1, alpha=0.5, label='sample 1') \n",
    "plt.hist(sample2, alpha=0.5, label='sample 2') \n",
    "plt.title('n=1000')\n",
    "plt.legend(loc='upper right') \n",
    "plt.show()\n",
    "\n",
    "print('n=1000')\n",
    "print('mean pop1: '+str(np.mean(pop1)))\n",
    "print('mean sample1: ' + str(np.mean(sample1)))\n",
    "\n",
    "print('mean pop2: '+str(np.mean(pop2)))\n",
    "print('mean sample2: ' + str(np.mean(sample2)))\n",
    "\n",
    "print('std sample1: ' + str(np.std(sample1)))\n",
    "print('std sample2: ' + str(np.std(sample2)))\n",
    "\n",
    "# Compute the difference between the two sample means.\n",
    "diff=sample2.mean( ) -sample1.mean()\n",
    "print(diff)\n",
    "print(print(ttest_ind(sample2, sample1, equal_var=False)))"
   ]
  },
  {
   "cell_type": "code",
   "execution_count": 34,
   "metadata": {
    "scrolled": false
   },
   "outputs": [
    {
     "data": {
      "image/png": "[encoded data removed]",
      "text/plain": [
       "<Figure size 432x288 with 1 Axes>"
      ]
     },
     "metadata": {},
     "output_type": "display_data"
    },
    {
     "name": "stdout",
     "output_type": "stream",
     "text": [
      "n=1000\n",
      "mean pop1: 5.957307612136884\n",
      "mean sample1: 5.761377565872836\n",
      "mean pop2: 6.979470850730861\n",
      "mean sample2: 6.905317485488995\n",
      "std sample1: 2.4114318875792553\n",
      "std sample2: 2.6625687150630606\n",
      "1.1439399196161588\n",
      "Ttest_indResult(statistic=10.065124230959997, pvalue=2.8306260763012773e-23)\n",
      "None\n"
     ]
    }
   ],
   "source": [
    "# Using a sample size of 1000, create 2 populations of gamma\n",
    "pop1 = np.random.gamma(6,1,10000)\n",
    "pop2 = np.random.gamma(7,1,10000)\n",
    "\n",
    "sample1 = np.random.choice(pop1, 1000, replace=True)\n",
    "sample2 = np.random.choice(pop2, 1000, replace=True)\n",
    "\n",
    "plt.hist(sample1, alpha=0.5, label='sample 1') \n",
    "plt.hist(sample2, alpha=0.5, label='sample 2') \n",
    "plt.title('n=1000')\n",
    "plt.legend(loc='upper right') \n",
    "plt.show()\n",
    "\n",
    "print('n=1000')\n",
    "print('mean pop1: '+str(np.mean(pop1)))\n",
    "print('mean sample1: ' + str(np.mean(sample1)))\n",
    "\n",
    "print('mean pop2: '+str(np.mean(pop2)))\n",
    "print('mean sample2: ' + str(np.mean(sample2)))\n",
    "\n",
    "print('std sample1: ' + str(np.std(sample1)))\n",
    "print('std sample2: ' + str(np.std(sample2)))\n",
    "\n",
    "# Compute the difference between the two sample means.\n",
    "diff=sample2.mean( ) -sample1.mean()\n",
    "print(diff)\n",
    "print(print(ttest_ind(sample2, sample1, equal_var=False)))"
   ]
  }
 ],
 "metadata": {
  "kernelspec": {
   "display_name": "Python 3",
   "language": "python",
   "name": "python3"
  },
  "language_info": {
   "codemirror_mode": {
    "name": "ipython",
    "version": 3
   },
   "file_extension": ".py",
   "mimetype": "text/x-python",
   "name": "python",
   "nbconvert_exporter": "python",
   "pygments_lexer": "ipython3",
   "version": "3.6.4"
  }
 },
 "nbformat": 4,
 "nbformat_minor": 2
}
