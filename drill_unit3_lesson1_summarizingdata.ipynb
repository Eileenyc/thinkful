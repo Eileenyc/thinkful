{
 "cells": [
  {
   "cell_type": "markdown",
   "metadata": {},
   "source": [
    "# Drill Describing Data"
   ]
  },
  {
   "cell_type": "code",
   "execution_count": 1,
   "metadata": {},
   "outputs": [],
   "source": [
    "import numpy as np\n",
    "import matplotlib.pyplot as plt\n",
    "import statistics"
   ]
  },
  {
   "cell_type": "code",
   "execution_count": 3,
   "metadata": {},
   "outputs": [],
   "source": [
    "import pandas as pd"
   ]
  },
  {
   "cell_type": "markdown",
   "metadata": {},
   "source": [
    "#### 1. Greg was 14, Marcia was 12, Peter was 11, Jan was 10, Bobby was 8, and Cindy was 6 when they started playing the Brady kids on The Brady Bunch. Cousin Oliver was 8 years old when he joined the show. What are the mean, median, and mode of the kids' ages when they first appeared on the show? What are the variance, standard deviation, and standard error?"
   ]
  },
  {
   "cell_type": "code",
   "execution_count": 99,
   "metadata": {},
   "outputs": [],
   "source": [
    "brady_bunch = {\n",
    "    'kid': ['greg','marcia',\n",
    "            'peter','jan','bobby',\n",
    "            'cindy','oliver'],\n",
    "    'age': [14, 12, 11, 10, 8, 6, 8]\n",
    "}"
   ]
  },
  {
   "cell_type": "code",
   "execution_count": 100,
   "metadata": {
    "scrolled": true
   },
   "outputs": [],
   "source": [
    "df_brady = pd.DataFrame(brady_bunch, columns=['kid','age'])\n",
    "df_brady.set_index(['kid'],inplace=True)"
   ]
  },
  {
   "cell_type": "code",
   "execution_count": 101,
   "metadata": {
    "scrolled": true
   },
   "outputs": [
    {
     "name": "stdout",
     "output_type": "stream",
     "text": [
      "Average: \t9.857142857142858\n",
      "Median: \t10.0\n",
      "Mode: \t\t8\n",
      "Variance: \t6.408163265306122\n",
      "Standard Deviation: \t2.531435020952764\n",
      "Standard Error:\t0.3616335744218234\n"
     ]
    }
   ],
   "source": [
    "# Find Mean, Median, and Mode\n",
    "\n",
    "print('Average: \\t{}'.format(np.mean(df_brady['age'])))\n",
    "print('Median: \\t{}'.format(np.median(df_brady['age'])))\n",
    "print('Mode: \\t\\t{}'.format(statistics.mode(df_brady['age'])))\n",
    "print('Variance: \\t{}'.format(np.var(df_brady['age'])))\n",
    "print('Standard Deviation: \\t{}'.format(np.std(df_brady['age'])))\n",
    "print('Standard Error:\\t{}'.format(np.std(df_brady['age'])/len(df_brady['age'])))"
   ]
  },
  {
   "cell_type": "code",
   "execution_count": 102,
   "metadata": {
    "scrolled": true
   },
   "outputs": [
    {
     "data": {
      "text/html": [
       "<div>\n",
       "<style scoped>\n",
       "    .dataframe tbody tr th:only-of-type {\n",
       "        vertical-align: middle;\n",
       "    }\n",
       "\n",
       "    .dataframe tbody tr th {\n",
       "        vertical-align: top;\n",
       "    }\n",
       "\n",
       "    .dataframe thead th {\n",
       "        text-align: right;\n",
       "    }\n",
       "</style>\n",
       "<table border=\"1\" class=\"dataframe\">\n",
       "  <thead>\n",
       "    <tr style=\"text-align: right;\">\n",
       "      <th></th>\n",
       "      <th>age</th>\n",
       "    </tr>\n",
       "  </thead>\n",
       "  <tbody>\n",
       "    <tr>\n",
       "      <th>count</th>\n",
       "      <td>7.000000</td>\n",
       "    </tr>\n",
       "    <tr>\n",
       "      <th>mean</th>\n",
       "      <td>9.857143</td>\n",
       "    </tr>\n",
       "    <tr>\n",
       "      <th>std</th>\n",
       "      <td>2.734262</td>\n",
       "    </tr>\n",
       "    <tr>\n",
       "      <th>min</th>\n",
       "      <td>6.000000</td>\n",
       "    </tr>\n",
       "    <tr>\n",
       "      <th>25%</th>\n",
       "      <td>8.000000</td>\n",
       "    </tr>\n",
       "    <tr>\n",
       "      <th>50%</th>\n",
       "      <td>10.000000</td>\n",
       "    </tr>\n",
       "    <tr>\n",
       "      <th>75%</th>\n",
       "      <td>11.500000</td>\n",
       "    </tr>\n",
       "    <tr>\n",
       "      <th>max</th>\n",
       "      <td>14.000000</td>\n",
       "    </tr>\n",
       "  </tbody>\n",
       "</table>\n",
       "</div>"
      ],
      "text/plain": [
       "             age\n",
       "count   7.000000\n",
       "mean    9.857143\n",
       "std     2.734262\n",
       "min     6.000000\n",
       "25%     8.000000\n",
       "50%    10.000000\n",
       "75%    11.500000\n",
       "max    14.000000"
      ]
     },
     "execution_count": 102,
     "metadata": {},
     "output_type": "execute_result"
    }
   ],
   "source": [
    "df_brady.describe()"
   ]
  },
  {
   "cell_type": "markdown",
   "metadata": {},
   "source": [
    "#### 2. Using these estimates, if you had to choose only one estimate of central tendency and one estimate of variance to describe the data, which would you pick and why?"
   ]
  },
  {
   "cell_type": "markdown",
   "metadata": {},
   "source": [
    "If i had to pick 1 estimate of central tendency and 1 estimate of variance I would choose mean and variance. The mean would give me an idea of where the datapoints are falling and standard deviation would tell me how important additional datapoints are and how far the spread is from the mean with an unsquared unit."
   ]
  },
  {
   "cell_type": "markdown",
   "metadata": {},
   "source": [
    "#### 3. Next, Cindy has a birthday. Update your estimates- what changed, and what didn't?"
   ]
  },
  {
   "cell_type": "markdown",
   "metadata": {},
   "source": [
    "Average changed and any metric involved with the average (variance, standard error and standard deviation). Cindy's new age is closer to the mean so variance, standard deviation, and standard error lowered."
   ]
  },
  {
   "cell_type": "code",
   "execution_count": 103,
   "metadata": {},
   "outputs": [],
   "source": [
    "# Sub out Cindy's Age\n",
    "df_brady.at['cindy','age'] = 7"
   ]
  },
  {
   "cell_type": "code",
   "execution_count": 104,
   "metadata": {},
   "outputs": [
    {
     "name": "stdout",
     "output_type": "stream",
     "text": [
      "Average: \t10.0\n",
      "Median: \t10.0\n",
      "Variance: \t5.428571428571429\n",
      "Standard Deviation: \t2.32992949004287\n",
      "Standard Error:\t0.3328470700061243\n"
     ]
    }
   ],
   "source": [
    "# Find Mean, Median, and Mode\n",
    "\n",
    "print('Average: \\t{}'.format(np.mean(df_brady['age'])))\n",
    "print('Median: \\t{}'.format(np.median(df_brady['age'])))\n",
    "try:\n",
    "    \"Mode: \\t{}\".format(statistics.mode(df_brady['age']))\n",
    "except:\n",
    "    \"Mode: \\t{}\".format('Nan')\n",
    "print('Variance: \\t{}'.format(np.var(df_brady['age'])))\n",
    "print('Standard Deviation: \\t{}'.format(np.std(df_brady['age'])))\n",
    "print('Standard Error:\\t{}'.format(np.std(df_brady['age'])/len(df_brady['age'])))"
   ]
  },
  {
   "cell_type": "markdown",
   "metadata": {},
   "source": [
    "#### 4. Nobody likes Cousin Oliver. Maybe the network should have used an even younger actor. Replace Cousin Oliver with 1-year-old Jessica, then recalculate again. Does this change your choice of central tendency or variance estimation methods?"
   ]
  },
  {
   "cell_type": "markdown",
   "metadata": {},
   "source": [
    "Since Jessica's age is so far away from the existing ages mean and median are no longer the same. It shouldn't make a huge difference to continue using mean since they are only 1 off."
   ]
  },
  {
   "cell_type": "code",
   "execution_count": 105,
   "metadata": {},
   "outputs": [
    {
     "data": {
      "text/html": [
       "<div>\n",
       "<style scoped>\n",
       "    .dataframe tbody tr th:only-of-type {\n",
       "        vertical-align: middle;\n",
       "    }\n",
       "\n",
       "    .dataframe tbody tr th {\n",
       "        vertical-align: top;\n",
       "    }\n",
       "\n",
       "    .dataframe thead th {\n",
       "        text-align: right;\n",
       "    }\n",
       "</style>\n",
       "<table border=\"1\" class=\"dataframe\">\n",
       "  <thead>\n",
       "    <tr style=\"text-align: right;\">\n",
       "      <th></th>\n",
       "      <th>age</th>\n",
       "    </tr>\n",
       "    <tr>\n",
       "      <th>kid</th>\n",
       "      <th></th>\n",
       "    </tr>\n",
       "  </thead>\n",
       "  <tbody>\n",
       "    <tr>\n",
       "      <th>greg</th>\n",
       "      <td>14</td>\n",
       "    </tr>\n",
       "    <tr>\n",
       "      <th>marcia</th>\n",
       "      <td>12</td>\n",
       "    </tr>\n",
       "    <tr>\n",
       "      <th>peter</th>\n",
       "      <td>11</td>\n",
       "    </tr>\n",
       "    <tr>\n",
       "      <th>jan</th>\n",
       "      <td>10</td>\n",
       "    </tr>\n",
       "    <tr>\n",
       "      <th>bobby</th>\n",
       "      <td>8</td>\n",
       "    </tr>\n",
       "    <tr>\n",
       "      <th>cindy</th>\n",
       "      <td>7</td>\n",
       "    </tr>\n",
       "    <tr>\n",
       "      <th>oliver</th>\n",
       "      <td>1</td>\n",
       "    </tr>\n",
       "  </tbody>\n",
       "</table>\n",
       "</div>"
      ],
      "text/plain": [
       "        age\n",
       "kid        \n",
       "greg     14\n",
       "marcia   12\n",
       "peter    11\n",
       "jan      10\n",
       "bobby     8\n",
       "cindy     7\n",
       "oliver    1"
      ]
     },
     "execution_count": 105,
     "metadata": {},
     "output_type": "execute_result"
    }
   ],
   "source": [
    "# Sub out Oliver's age\n",
    "df_brady.at['oliver','age'] = 1"
   ]
  },
  {
   "cell_type": "code",
   "execution_count": 107,
   "metadata": {},
   "outputs": [
    {
     "name": "stdout",
     "output_type": "stream",
     "text": [
      "Average: \t9.0\n",
      "Median: \t10.0\n",
      "Variance: \t15.428571428571429\n",
      "Standard Deviation: \t3.927922024247863\n",
      "Standard Error:\t0.5611317177496947\n"
     ]
    }
   ],
   "source": [
    "# Find Mean, Median, and Mode\n",
    "\n",
    "print('Average: \\t{}'.format(np.mean(df_brady['age'])))\n",
    "print('Median: \\t{}'.format(np.median(df_brady['age'])))\n",
    "try:\n",
    "    \"Mode: \\t{}\".format(statistics.mode(df_brady['age']))\n",
    "except:\n",
    "    \"Mode: \\t{}\".format('Nan')\n",
    "print('Variance: \\t{}'.format(np.var(df_brady['age'])))\n",
    "print('Standard Deviation: \\t{}'.format(np.std(df_brady['age'])))\n",
    "print('Standard Error:\\t{}'.format(np.std(df_brady['age'])/len(df_brady['age'])))"
   ]
  },
  {
   "cell_type": "markdown",
   "metadata": {},
   "source": [
    "#### 5. On the 50th anniversary of The Brady Bunch, four different magazines asked their readers whether they were fans of the show. The answers were: TV Guide 20% fans Entertainment Weekly 23% fans Pop Culture Today 17% fans SciPhi Phanatic 5% fans\n",
    "\n",
    "#### Based on these numbers, what percentage of adult Americans would you estimate were Brady Bunch fans on the 50th anniversary of the show?"
   ]
  },
  {
   "cell_type": "markdown",
   "metadata": {},
   "source": [
    "SciPhi Phanatic seems to be an outlier, removing SciPhi Phanatic would give us an average of 20%. If we included SciPhi Phanatic would the range be 14.8%-17.7%? Is it the mean +/- the standard error or the standard deviation?"
   ]
  },
  {
   "cell_type": "code",
   "execution_count": 7,
   "metadata": {},
   "outputs": [],
   "source": [
    "brady_fan = {\n",
    "    'magazine': ['tv_guide', 'e_weekly', 'pop_culture', 'sciphi_phanatic'],\n",
    "    'popularity': [.20, .23, .17, .05]\n",
    "}\n",
    "df_fan = pd.DataFrame(brady_fan, columns=['magazine','popularity'])\n",
    "df_fan.set_index(['magazine'], inplace=True)"
   ]
  },
  {
   "cell_type": "code",
   "execution_count": 5,
   "metadata": {},
   "outputs": [
    {
     "name": "stdout",
     "output_type": "stream",
     "text": [
      "Average: \t0.16250000000000003\n",
      "Median: \t0.185\n",
      "Variance: \t0.00466875\n",
      "Standard Deviation: \t0.06832825184358224\n",
      "Standard Error:\t0.01708206296089556\n"
     ]
    }
   ],
   "source": [
    "# Brady_fan stats\n",
    "# Find Mean, Median, and Mode\n",
    "\n",
    "print('Average: \\t{}'.format(np.mean(brady_fan['popularity'])))\n",
    "print('Median: \\t{}'.format(np.median(brady_fan['popularity'])))\n",
    "try:\n",
    "    \"Mode: \\t{}\".format(statistics.mode(brady_fan['popularity']))\n",
    "except:\n",
    "    \"Mode: \\t{}\".format('Nan')\n",
    "print('Variance: \\t{}'.format(np.var(brady_fan['popularity'])))\n",
    "print('Standard Deviation: \\t{}'.format(np.std(brady_fan['popularity'])))\n",
    "print('Standard Error:\\t{}'.format(np.std(brady_fan['popularity'])/len(brady_fan['popularity'])))"
   ]
  },
  {
   "cell_type": "code",
   "execution_count": 8,
   "metadata": {},
   "outputs": [
    {
     "data": {
      "text/plain": [
       "0.20000000000000004"
      ]
     },
     "execution_count": 8,
     "metadata": {},
     "output_type": "execute_result"
    }
   ],
   "source": [
    "np.mean([.2,.23,.17])"
   ]
  }
 ],
 "metadata": {
  "kernelspec": {
   "display_name": "Python 3",
   "language": "python",
   "name": "python3"
  },
  "language_info": {
   "codemirror_mode": {
    "name": "ipython",
    "version": 3
   },
   "file_extension": ".py",
   "mimetype": "text/x-python",
   "name": "python",
   "nbconvert_exporter": "python",
   "pygments_lexer": "ipython3",
   "version": "3.6.4"
  }
 },
 "nbformat": 4,
 "nbformat_minor": 2
}
